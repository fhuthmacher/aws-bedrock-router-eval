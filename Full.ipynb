{
 "cells": [
  {
   "cell_type": "code",
   "execution_count": 1,
   "id": "c1e9cad8-72a8-486c-8d50-a124880e918f",
   "metadata": {},
   "outputs": [],
   "source": [
    "# Import necessary libraries\n",
    "import boto3\n",
    "import json"
   ]
  },
  {
   "cell_type": "code",
   "execution_count": 2,
   "id": "da295f4e-d94b-4e65-af3b-e864317f5a9e",
   "metadata": {},
   "outputs": [],
   "source": [
    "# Step 1: Define categories and difficulties\n",
    "topics = ['code', 'summarization', 'general']\n",
    "difficulty_levels = ['easy', 'medium', 'hard']\n",
    "synthetic_data_model = \"anthropic.claude-3-haiku-20240307-v1:0\""
   ]
  },
  {
   "cell_type": "code",
   "execution_count": 12,
   "id": "a3f27cac-f5a4-4a39-b29d-c2e0ada7fb07",
   "metadata": {},
   "outputs": [],
   "source": [
    "brt = boto3.client(service_name='bedrock-runtime', region_name=\"us-west-2\")\n",
    "data_gen_prompt = f\"generate a json file with example prompts across the following topics {topics} and following category level {difficulty_levels}. Your answer will only contain the json formatted answer.\"\n",
    "from botocore.exceptions import ClientError\n",
    "\n",
    "def syntheticdatagen(topics,difficulty_levels):\n",
    "    native_request = {\n",
    "        \"anthropic_version\": \"bedrock-2023-05-31\",\n",
    "        \"max_tokens\": 512,\n",
    "        \"temperature\": 0.5,\n",
    "        \"messages\": [\n",
    "            {\n",
    "                \"role\": \"user\",\n",
    "                \"content\": [{\"type\": \"text\", \"text\": data_gen_prompt}],\n",
    "            }\n",
    "        ],\n",
    "    }\n",
    "    # Convert the native request to JSON.\n",
    "    request = json.dumps(native_request)\n",
    "    \n",
    "    try:\n",
    "        # Invoke the model with the request.\n",
    "        response = brt.invoke_model(modelId=synthetic_data_model, body=request)\n",
    "    \n",
    "    except (ClientError, Exception) as e:\n",
    "        print(f\"ERROR: Can't invoke '{synthetic_data_model}'. Reason: {e}\")\n",
    "        exit(1)\n",
    "    \n",
    "    # Decode the response body.\n",
    "    model_response = json.loads(response[\"body\"].read())\n",
    "    \n",
    "    # Extract and print the response text.\n",
    "    response_text = model_response[\"content\"][0][\"text\"]\n",
    "    print(data_gen_prompt)\n",
    "    return response_text"
   ]
  },
  {
   "cell_type": "code",
   "execution_count": 13,
   "id": "b7751689-6bc6-4af5-bbfd-79e990f12532",
   "metadata": {},
   "outputs": [
    {
     "name": "stdout",
     "output_type": "stream",
     "text": [
      "generate a json file with example prompts across the following topics ['code', 'summarization', 'general'] and following category level ['easy', 'medium', 'hard']. Your answer will only contain the json formatted answer.\n"
     ]
    },
    {
     "data": {
      "text/plain": [
       "'{\\n  \"code\": {\\n    \"easy\": [\\n      \"Write a function that takes in a list of numbers and returns the sum of all the even numbers.\",\\n      \"Create a program that takes in a string and returns the number of vowels in the string.\",\\n      \"Write a function that takes in a list of strings and returns a new list with all the strings in reverse order.\"\\n    ],\\n    \"medium\": [\\n      \"Implement a binary search algorithm that takes in a sorted list of numbers and a target number, and returns the index of the target number if it is present in the list, or -1 if it is not.\",\\n      \"Write a function that takes in a 2D list of integers and returns the sum of all the elements in the list.\",\\n      \"Implement a function that takes in a string and returns a new string with all the duplicate characters removed.\"\\n    ],\\n    \"hard\": [\\n      \"Write a function that takes in a list of integers and returns the longest consecutive sequence of numbers in the list.\",\\n      \"Implement a function that takes in a binary tree and returns the level order traversal of the tree.\",\\n      \"Write a function that takes in a list of strings and returns the longest common prefix among all the strings.\"\\n    ]\\n  },\\n  \"summarization\": {\\n    \"easy\": [\\n      \"Summarize the main points of a short news article in 2-3 sentences.\",\\n      \"Provide a 1-2 sentence summary of a given book chapter.\",\\n      \"Summarize the key takeaways from a short research paper in 3-4 sentences.\"\\n    ],\\n    \"medium\": [\\n      \"Summarize the key arguments and conclusions of a scholarly journal article in 4-5 sentences.\",\\n      \"Provide a concise 3-4 sentence summary of a TED talk or other video presentation.\",\\n      \"Summarize the main ideas and findings of a scientific report in 5-6 sentences.\"\\n    ],\\n    \"hard\": [\\n      \"Synthesize the key points and overall message of a lengthy academic paper or book in 7-8 sentences.\",\\n      \"Provide a comprehensive 6-8 sentence summary of a complex policy report or government document.\",\\n      \"Summarize the central themes, arguments, and implications'"
      ]
     },
     "execution_count": 13,
     "metadata": {},
     "output_type": "execute_result"
    }
   ],
   "source": [
    "syntheticdatagen(topics,difficulty_levels)"
   ]
  },
  {
   "cell_type": "code",
   "execution_count": null,
   "id": "5cf585f1-14fe-4903-b346-196dca10a7e7",
   "metadata": {},
   "outputs": [],
   "source": []
  }
 ],
 "metadata": {
  "kernelspec": {
   "display_name": "Python 3 (ipykernel)",
   "language": "python",
   "name": "python3"
  },
  "language_info": {
   "codemirror_mode": {
    "name": "ipython",
    "version": 3
   },
   "file_extension": ".py",
   "mimetype": "text/x-python",
   "name": "python",
   "nbconvert_exporter": "python",
   "pygments_lexer": "ipython3",
   "version": "3.10.14"
  }
 },
 "nbformat": 4,
 "nbformat_minor": 5
}
