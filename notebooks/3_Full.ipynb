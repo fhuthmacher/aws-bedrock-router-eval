{
 "cells": [
  {
   "cell_type": "markdown",
   "id": "3c58337d",
   "metadata": {},
   "source": [
    "# Combining Semantic and LLM routing"
   ]
  },
  {
   "cell_type": "code",
   "execution_count": 2,
   "id": "c1e9cad8-72a8-486c-8d50-a124880e918f",
   "metadata": {},
   "outputs": [],
   "source": [
    "# Import necessary libraries\n",
    "import boto3\n",
    "import json\n",
    "from dotenv import load_dotenv, find_dotenv\n",
    "import os\n",
    "\n",
    "\n",
    "# loading environment variables that are stored in local file dev.env\n",
    "local_env_filename = 'bedrock-router-eval.env'\n",
    "load_dotenv(find_dotenv(local_env_filename),override=True)\n",
    "\n",
    "os.environ['REGION'] = os.getenv('REGION')\n",
    "REGION = os.environ['REGION']"
   ]
  },
  {
   "cell_type": "code",
   "execution_count": 3,
   "id": "da295f4e-d94b-4e65-af3b-e864317f5a9e",
   "metadata": {},
   "outputs": [],
   "source": [
    "# Step 1: Define categories and difficulties\n",
    "topics = ['code', 'summarization', 'general']\n",
    "difficulty_levels = ['easy', 'medium', 'hard']\n",
    "synthetic_data_model = \"anthropic.claude-3-haiku-20240307-v1:0\""
   ]
  },
  {
   "cell_type": "code",
   "execution_count": 4,
   "id": "a3f27cac-f5a4-4a39-b29d-c2e0ada7fb07",
   "metadata": {},
   "outputs": [],
   "source": [
    "brt = boto3.client(service_name='bedrock-runtime', region_name=REGION)\n",
    "data_gen_prompt = f\"generate a json file with example prompts across the following topics {topics} and following category level {difficulty_levels}. Your answer will only contain the json formatted answer.\"\n",
    "from botocore.exceptions import ClientError\n",
    "\n",
    "def syntheticdatagen(topics,difficulty_levels):\n",
    "    native_request = {\n",
    "        \"anthropic_version\": \"bedrock-2023-05-31\",\n",
    "        \"max_tokens\": 512,\n",
    "        \"temperature\": 0.5,\n",
    "        \"messages\": [\n",
    "            {\n",
    "                \"role\": \"user\",\n",
    "                \"content\": [{\"type\": \"text\", \"text\": data_gen_prompt}],\n",
    "            }\n",
    "        ],\n",
    "    }\n",
    "    # Convert the native request to JSON.\n",
    "    request = json.dumps(native_request)\n",
    "    \n",
    "    try:\n",
    "        # Invoke the model with the request.\n",
    "        response = brt.invoke_model(modelId=synthetic_data_model, body=request)\n",
    "    \n",
    "    except (ClientError, Exception) as e:\n",
    "        print(f\"ERROR: Can't invoke '{synthetic_data_model}'. Reason: {e}\")\n",
    "        exit(1)\n",
    "    \n",
    "    # Decode the response body.\n",
    "    model_response = json.loads(response[\"body\"].read())\n",
    "    \n",
    "    # Extract and print the response text.\n",
    "    response_text = model_response[\"content\"][0][\"text\"]\n",
    "    print(data_gen_prompt)\n",
    "    return response_text"
   ]
  },
  {
   "cell_type": "code",
   "execution_count": 5,
   "id": "b7751689-6bc6-4af5-bbfd-79e990f12532",
   "metadata": {},
   "outputs": [
    {
     "name": "stdout",
     "output_type": "stream",
     "text": [
      "generate a json file with example prompts across the following topics ['code', 'summarization', 'general'] and following category level ['easy', 'medium', 'hard']. Your answer will only contain the json formatted answer.\n"
     ]
    },
    {
     "data": {
      "text/plain": [
       "'{\\n  \"code\": {\\n    \"easy\": [\\n      \"Write a function that takes two numbers as input and returns their sum.\",\\n      \"Create a simple program that prints the first 10 numbers of the Fibonacci sequence.\",\\n      \"Write a script that checks if a given string is a palindrome.\"\\n    ],\\n    \"medium\": [\\n      \"Implement a binary search algorithm to find a target value in a sorted array.\",\\n      \"Write a function that takes a list of numbers and returns the second-largest number.\",\\n      \"Create a program that simulates a simple calculator with basic arithmetic operations.\"\\n    ],\\n    \"hard\": [\\n      \"Develop a program that solves a Sudoku puzzle given a partially filled grid.\",\\n      \"Implement a recursive function to find the nth Fibonacci number.\",\\n      \"Write a program that finds the longest common subsequence between two given strings.\"\\n    ]\\n  },\\n  \"summarization\": {\\n    \"easy\": [\\n      \"Summarize the main points of a short news article in a few sentences.\",\\n      \"Provide a one-paragraph summary of a children\\'s book.\",\\n      \"Summarize the key takeaways from a short instructional video.\"\\n    ],\\n    \"medium\": [\\n      \"Summarize the plot of a classic novel in a few paragraphs.\",\\n      \"Provide a concise summary of a research paper\\'s methodology and findings.\",\\n      \"Summarize the key points of a TED talk in a few bullet points.\"\\n    ],\\n    \"hard\": [\\n      \"Summarize the key themes and character arcs of a complex novel in a coherent essay.\",\\n      \"Provide a comprehensive summary of a lengthy scientific report, including the introduction, methodology, results, and conclusions.\",\\n      \"Summarize the main arguments and counterarguments in a scholarly debate on a controversial topic.\"\\n    ]\\n  },\\n  \"general\": {\\n    \"easy\": [\\n      \"Describe your favorite hobby in a few sentences.\",\\n      \"Write a short description of your dream vacation destination.\",\\n      \"Explain the purpose of a common household appliance in a few sentences.\"\\n    ],\\n    \"medium\": [\\n      \"Discuss the pros and cons of a popular social media platform.\",\\n      \"Explain the importance of a healthy work'"
      ]
     },
     "execution_count": 5,
     "metadata": {},
     "output_type": "execute_result"
    }
   ],
   "source": [
    "syntheticdatagen(topics,difficulty_levels)"
   ]
  }
 ],
 "metadata": {
  "kernelspec": {
   "display_name": "Python 3 (ipykernel)",
   "language": "python",
   "name": "python3"
  },
  "language_info": {
   "codemirror_mode": {
    "name": "ipython",
    "version": 3
   },
   "file_extension": ".py",
   "mimetype": "text/x-python",
   "name": "python",
   "nbconvert_exporter": "python",
   "pygments_lexer": "ipython3",
   "version": "3.10.14"
  }
 },
 "nbformat": 4,
 "nbformat_minor": 5
}
