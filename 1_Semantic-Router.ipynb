{
 "cells": [
  {
   "cell_type": "markdown",
   "id": "497a56a1-197f-4da6-b4ec-32648f97ddeb",
   "metadata": {},
   "source": [
    "# Bedrock Model Routing - custom semantic routing"
   ]
  },
  {
   "cell_type": "markdown",
   "id": "12a99e95-88b0-4f4e-84d8-a3d301a967e5",
   "metadata": {},
   "source": [
    "## Intro and Goal\n",
    "\n",
    "This Jupyter Notebook is designed to test an LLM (Large Language Model) routing system. The goal is to take a prompt, embed it using a vector embedding in Bedrock, and then measure the distance with two specific vectors that represent the domain for two specific LLMs. Based on the distance, the prompt will be routed to the appropriate LLM.\n",
    "\n",
    "The notebook is structured as follows:\n",
    "1. Create the samples for the 2 domains that we'll route to (e.g., code generation and summarization).\n",
    "2. Generate the embeddings for the 2 domain prompts.\n",
    "3. Create a 3rd prompt, generate its embedding, and measure the distance to select which domain it relates to.\n",
    "4. Construct the router that will take the prompt and automatically generate the answer from the LLM the prompt is routed to based on the distance."
   ]
  },
  {
   "cell_type": "code",
   "execution_count": 14,
   "id": "9d6bd69d-d755-4694-b042-ea18f37cc660",
   "metadata": {},
   "outputs": [],
   "source": [
    "# Import necessary libraries\n",
    "import numpy as np\n",
    "from scipy.spatial.distance import cdist\n",
    "import json\n",
    "from dotenv import load_dotenv, find_dotenv\n",
    "import os\n",
    "import boto3\n",
    "\n",
    "# loading environment variables that are stored in local file dev.env\n",
    "local_env_filename = 'bedrock-router-eval.env'\n",
    "load_dotenv(find_dotenv(local_env_filename),override=True)\n",
    "\n",
    "os.environ['REGION'] = os.getenv('REGION')\n",
    "REGION = os.environ['REGION']\n",
    "\n",
    "client = boto3.client(service_name='bedrock-runtime', region_name=REGION)\n",
    "\n",
    "model_id = \"anthropic.claude-3-haiku-20240307-v1:0\" # \"anthropic.claude-3-5-sonnet-20240620-v1:0\" \"meta.llama3-1-70b-instruct-v1:0\""
   ]
  },
  {
   "cell_type": "code",
   "execution_count": 15,
   "id": "1c7cfe67-dc9e-4d6c-9ba6-2779c127db12",
   "metadata": {},
   "outputs": [],
   "source": [
    "# Step 1: Create the samples for the 2 domains\n",
    "# Code Generation Domain\n",
    "code_gen_prompt = \"Write a Python function that calculates the factorial of a given number.\"\n",
    "code_gen_model = \"code_generation_llm\""
   ]
  },
  {
   "cell_type": "code",
   "execution_count": 16,
   "id": "b764ef9c-3be2-45e6-92b0-8430bb2b886a",
   "metadata": {},
   "outputs": [],
   "source": [
    "# Summarization Domain\n",
    "summarization_prompt = \"Summarize the key points of the given article in a concise paragraph.\"\n",
    "summarization_model = \"summarization_llm\""
   ]
  },
  {
   "cell_type": "code",
   "execution_count": 17,
   "id": "719dbdc2-51fe-465a-9415-670c6548b35f",
   "metadata": {
    "scrolled": true
   },
   "outputs": [
    {
     "ename": "ValidationException",
     "evalue": "An error occurred (ValidationException) when calling the InvokeModel operation: Malformed input request: #: required key [prompt] not found#: required key [max_tokens_to_sample] not found#: extraneous key [inputText] is not permitted, please reformat your input and try again.",
     "output_type": "error",
     "traceback": [
      "\u001b[0;31m---------------------------------------------------------------------------\u001b[0m",
      "\u001b[0;31mValidationException\u001b[0m                       Traceback (most recent call last)",
      "\u001b[1;32m/home/sagemaker-user/aws-bedrock-router-eval/semantic router.ipynb Cell 6\u001b[0m line \u001b[0;36m1\n\u001b[1;32m      <a href='vscode-notebook-cell://hp8z681i3gpzvpo.studio.us-east-1.sagemaker.aws/home/sagemaker-user/aws-bedrock-router-eval/semantic%20router.ipynb#W5sdnNjb2RlLXJlbW90ZQ%3D%3D?line=7'>8</a>\u001b[0m request_sum \u001b[39m=\u001b[39m json\u001b[39m.\u001b[39mdumps(native_request_sum)\n\u001b[1;32m     <a href='vscode-notebook-cell://hp8z681i3gpzvpo.studio.us-east-1.sagemaker.aws/home/sagemaker-user/aws-bedrock-router-eval/semantic%20router.ipynb#W5sdnNjb2RlLXJlbW90ZQ%3D%3D?line=9'>10</a>\u001b[0m \u001b[39m# Invoke the model with the request.\u001b[39;00m\n\u001b[0;32m---> <a href='vscode-notebook-cell://hp8z681i3gpzvpo.studio.us-east-1.sagemaker.aws/home/sagemaker-user/aws-bedrock-router-eval/semantic%20router.ipynb#W5sdnNjb2RlLXJlbW90ZQ%3D%3D?line=10'>11</a>\u001b[0m response_code \u001b[39m=\u001b[39m client\u001b[39m.\u001b[39minvoke_model(modelId\u001b[39m=\u001b[39mmodel_id, body\u001b[39m=\u001b[39mrequest_code)\n\u001b[1;32m     <a href='vscode-notebook-cell://hp8z681i3gpzvpo.studio.us-east-1.sagemaker.aws/home/sagemaker-user/aws-bedrock-router-eval/semantic%20router.ipynb#W5sdnNjb2RlLXJlbW90ZQ%3D%3D?line=11'>12</a>\u001b[0m response_sum \u001b[39m=\u001b[39m client\u001b[39m.\u001b[39minvoke_model(modelId\u001b[39m=\u001b[39mmodel_id, body\u001b[39m=\u001b[39mrequest_sum)\n\u001b[1;32m     <a href='vscode-notebook-cell://hp8z681i3gpzvpo.studio.us-east-1.sagemaker.aws/home/sagemaker-user/aws-bedrock-router-eval/semantic%20router.ipynb#W5sdnNjb2RlLXJlbW90ZQ%3D%3D?line=13'>14</a>\u001b[0m \u001b[39m# Decode the model's native response body.\u001b[39;00m\n",
      "File \u001b[0;32m~/.conda/envs/bedrock-router-eval/lib/python3.11/site-packages/botocore/client.py:565\u001b[0m, in \u001b[0;36mClientCreator._create_api_method.<locals>._api_call\u001b[0;34m(self, *args, **kwargs)\u001b[0m\n\u001b[1;32m    561\u001b[0m     \u001b[39mraise\u001b[39;00m \u001b[39mTypeError\u001b[39;00m(\n\u001b[1;32m    562\u001b[0m         \u001b[39mf\u001b[39m\u001b[39m\"\u001b[39m\u001b[39m{\u001b[39;00mpy_operation_name\u001b[39m}\u001b[39;00m\u001b[39m() only accepts keyword arguments.\u001b[39m\u001b[39m\"\u001b[39m\n\u001b[1;32m    563\u001b[0m     )\n\u001b[1;32m    564\u001b[0m \u001b[39m# The \"self\" in this scope is referring to the BaseClient.\u001b[39;00m\n\u001b[0;32m--> 565\u001b[0m \u001b[39mreturn\u001b[39;00m \u001b[39mself\u001b[39m\u001b[39m.\u001b[39m_make_api_call(operation_name, kwargs)\n",
      "File \u001b[0;32m~/.conda/envs/bedrock-router-eval/lib/python3.11/site-packages/botocore/client.py:1017\u001b[0m, in \u001b[0;36mBaseClient._make_api_call\u001b[0;34m(self, operation_name, api_params)\u001b[0m\n\u001b[1;32m   1013\u001b[0m     error_code \u001b[39m=\u001b[39m error_info\u001b[39m.\u001b[39mget(\u001b[39m\"\u001b[39m\u001b[39mQueryErrorCode\u001b[39m\u001b[39m\"\u001b[39m) \u001b[39mor\u001b[39;00m error_info\u001b[39m.\u001b[39mget(\n\u001b[1;32m   1014\u001b[0m         \u001b[39m\"\u001b[39m\u001b[39mCode\u001b[39m\u001b[39m\"\u001b[39m\n\u001b[1;32m   1015\u001b[0m     )\n\u001b[1;32m   1016\u001b[0m     error_class \u001b[39m=\u001b[39m \u001b[39mself\u001b[39m\u001b[39m.\u001b[39mexceptions\u001b[39m.\u001b[39mfrom_code(error_code)\n\u001b[0;32m-> 1017\u001b[0m     \u001b[39mraise\u001b[39;00m error_class(parsed_response, operation_name)\n\u001b[1;32m   1018\u001b[0m \u001b[39melse\u001b[39;00m:\n\u001b[1;32m   1019\u001b[0m     \u001b[39mreturn\u001b[39;00m parsed_response\n",
      "\u001b[0;31mValidationException\u001b[0m: An error occurred (ValidationException) when calling the InvokeModel operation: Malformed input request: #: required key [prompt] not found#: required key [max_tokens_to_sample] not found#: extraneous key [inputText] is not permitted, please reformat your input and try again."
     ]
    }
   ],
   "source": [
    "# Step 2: Generate the embeddings for the 2 domain prompts\n",
    "# Create the request for the model.\n",
    "native_request_code = {\"inputText\": code_gen_prompt}\n",
    "native_request_sum = {\"inputText\": summarization_prompt}\n",
    "\n",
    "# Convert the native request to JSON.\n",
    "request_code = json.dumps(native_request_code)\n",
    "request_sum = json.dumps(native_request_sum)\n",
    "\n",
    "# Invoke the model with the request.\n",
    "response_code = client.invoke_model(modelId=model_id, body=request_code)\n",
    "response_sum = client.invoke_model(modelId=model_id, body=request_sum)\n",
    "\n",
    "# Decode the model's native response body.\n",
    "model_response_code = json.loads(response_code[\"body\"].read())\n",
    "model_response_sum = json.loads(response_sum[\"body\"].read())\n",
    "\n",
    "# Extract and print the generated embedding and the input text token count.\n",
    "code_gen_embedding = model_response_code[\"embedding\"]\n",
    "summarization_embedding = model_response_sum[\"embedding\"]\n",
    "\n",
    "print(\"Embedding Code:\")\n",
    "print(code_gen_embedding)\n",
    "\n",
    "print(\"Embedding Summarization:\")\n",
    "print(summarization_embedding)"
   ]
  },
  {
   "cell_type": "code",
   "execution_count": 18,
   "id": "fc40eaf2-09b2-4af5-92eb-8a8c0b086daf",
   "metadata": {},
   "outputs": [
    {
     "ename": "ValidationException",
     "evalue": "An error occurred (ValidationException) when calling the InvokeModel operation: Malformed input request: #: required key [prompt] not found#: required key [max_tokens_to_sample] not found#: extraneous key [inputText] is not permitted, please reformat your input and try again.",
     "output_type": "error",
     "traceback": [
      "\u001b[0;31m---------------------------------------------------------------------------\u001b[0m",
      "\u001b[0;31mValidationException\u001b[0m                       Traceback (most recent call last)",
      "\u001b[1;32m/home/sagemaker-user/aws-bedrock-router-eval/semantic router.ipynb Cell 7\u001b[0m line \u001b[0;36m5\n\u001b[1;32m      <a href='vscode-notebook-cell://hp8z681i3gpzvpo.studio.us-east-1.sagemaker.aws/home/sagemaker-user/aws-bedrock-router-eval/semantic%20router.ipynb#W6sdnNjb2RlLXJlbW90ZQ%3D%3D?line=2'>3</a>\u001b[0m native_request \u001b[39m=\u001b[39m {\u001b[39m\"\u001b[39m\u001b[39minputText\u001b[39m\u001b[39m\"\u001b[39m: third_prompt}\n\u001b[1;32m      <a href='vscode-notebook-cell://hp8z681i3gpzvpo.studio.us-east-1.sagemaker.aws/home/sagemaker-user/aws-bedrock-router-eval/semantic%20router.ipynb#W6sdnNjb2RlLXJlbW90ZQ%3D%3D?line=3'>4</a>\u001b[0m request \u001b[39m=\u001b[39m json\u001b[39m.\u001b[39mdumps(native_request)\n\u001b[0;32m----> <a href='vscode-notebook-cell://hp8z681i3gpzvpo.studio.us-east-1.sagemaker.aws/home/sagemaker-user/aws-bedrock-router-eval/semantic%20router.ipynb#W6sdnNjb2RlLXJlbW90ZQ%3D%3D?line=4'>5</a>\u001b[0m response \u001b[39m=\u001b[39m client\u001b[39m.\u001b[39minvoke_model(modelId\u001b[39m=\u001b[39mmodel_id, body\u001b[39m=\u001b[39mrequest)\n\u001b[1;32m      <a href='vscode-notebook-cell://hp8z681i3gpzvpo.studio.us-east-1.sagemaker.aws/home/sagemaker-user/aws-bedrock-router-eval/semantic%20router.ipynb#W6sdnNjb2RlLXJlbW90ZQ%3D%3D?line=5'>6</a>\u001b[0m model_response \u001b[39m=\u001b[39m json\u001b[39m.\u001b[39mloads(response[\u001b[39m\"\u001b[39m\u001b[39mbody\u001b[39m\u001b[39m\"\u001b[39m]\u001b[39m.\u001b[39mread())\n\u001b[1;32m      <a href='vscode-notebook-cell://hp8z681i3gpzvpo.studio.us-east-1.sagemaker.aws/home/sagemaker-user/aws-bedrock-router-eval/semantic%20router.ipynb#W6sdnNjb2RlLXJlbW90ZQ%3D%3D?line=6'>7</a>\u001b[0m third_prompt_embedding \u001b[39m=\u001b[39m model_response_code[\u001b[39m\"\u001b[39m\u001b[39membedding\u001b[39m\u001b[39m\"\u001b[39m]\n",
      "File \u001b[0;32m~/.conda/envs/bedrock-router-eval/lib/python3.11/site-packages/botocore/client.py:565\u001b[0m, in \u001b[0;36mClientCreator._create_api_method.<locals>._api_call\u001b[0;34m(self, *args, **kwargs)\u001b[0m\n\u001b[1;32m    561\u001b[0m     \u001b[39mraise\u001b[39;00m \u001b[39mTypeError\u001b[39;00m(\n\u001b[1;32m    562\u001b[0m         \u001b[39mf\u001b[39m\u001b[39m\"\u001b[39m\u001b[39m{\u001b[39;00mpy_operation_name\u001b[39m}\u001b[39;00m\u001b[39m() only accepts keyword arguments.\u001b[39m\u001b[39m\"\u001b[39m\n\u001b[1;32m    563\u001b[0m     )\n\u001b[1;32m    564\u001b[0m \u001b[39m# The \"self\" in this scope is referring to the BaseClient.\u001b[39;00m\n\u001b[0;32m--> 565\u001b[0m \u001b[39mreturn\u001b[39;00m \u001b[39mself\u001b[39m\u001b[39m.\u001b[39m_make_api_call(operation_name, kwargs)\n",
      "File \u001b[0;32m~/.conda/envs/bedrock-router-eval/lib/python3.11/site-packages/botocore/client.py:1017\u001b[0m, in \u001b[0;36mBaseClient._make_api_call\u001b[0;34m(self, operation_name, api_params)\u001b[0m\n\u001b[1;32m   1013\u001b[0m     error_code \u001b[39m=\u001b[39m error_info\u001b[39m.\u001b[39mget(\u001b[39m\"\u001b[39m\u001b[39mQueryErrorCode\u001b[39m\u001b[39m\"\u001b[39m) \u001b[39mor\u001b[39;00m error_info\u001b[39m.\u001b[39mget(\n\u001b[1;32m   1014\u001b[0m         \u001b[39m\"\u001b[39m\u001b[39mCode\u001b[39m\u001b[39m\"\u001b[39m\n\u001b[1;32m   1015\u001b[0m     )\n\u001b[1;32m   1016\u001b[0m     error_class \u001b[39m=\u001b[39m \u001b[39mself\u001b[39m\u001b[39m.\u001b[39mexceptions\u001b[39m.\u001b[39mfrom_code(error_code)\n\u001b[0;32m-> 1017\u001b[0m     \u001b[39mraise\u001b[39;00m error_class(parsed_response, operation_name)\n\u001b[1;32m   1018\u001b[0m \u001b[39melse\u001b[39;00m:\n\u001b[1;32m   1019\u001b[0m     \u001b[39mreturn\u001b[39;00m parsed_response\n",
      "\u001b[0;31mValidationException\u001b[0m: An error occurred (ValidationException) when calling the InvokeModel operation: Malformed input request: #: required key [prompt] not found#: required key [max_tokens_to_sample] not found#: extraneous key [inputText] is not permitted, please reformat your input and try again."
     ]
    }
   ],
   "source": [
    "# Step 3: Create a 3rd prompt, generate its embedding, and measure the distance\n",
    "third_prompt = \"Explain the concept of object-oriented programming in Python.\"\n",
    "native_request = {\"inputText\": third_prompt}\n",
    "request = json.dumps(native_request)\n",
    "response = client.invoke_model(modelId=model_id, body=request)\n",
    "model_response = json.loads(response[\"body\"].read())\n",
    "third_prompt_embedding = model_response_code[\"embedding\"]"
   ]
  },
  {
   "cell_type": "code",
   "execution_count": null,
   "id": "afd923bd-168e-455a-a3fd-60953cfc205d",
   "metadata": {},
   "outputs": [
    {
     "name": "stdout",
     "output_type": "stream",
     "text": [
      "0.0\n",
      "1.4240657683435918\n"
     ]
    }
   ],
   "source": [
    "# Measure the distance to the 2 domain prompts\n",
    "third_promp_array = np.array(third_prompt_embedding)\n",
    "code_gen_array = np.array(code_gen_embedding)\n",
    "sum_array = np.array(summarization_embedding)\n",
    "code_gen_distance = np.linalg.norm(third_promp_array - code_gen_array)\n",
    "sum_distance = np.linalg.norm(third_promp_array - sum_array)\n",
    "\n",
    "print(code_gen_distance)\n",
    "print(sum_distance)"
   ]
  },
  {
   "cell_type": "code",
   "execution_count": null,
   "id": "b37392f8-15d3-4e23-95e4-f035835ad549",
   "metadata": {},
   "outputs": [
    {
     "name": "stdout",
     "output_type": "stream",
     "text": [
      "The prompt 'Explain the concept of object-oriented programming in Python.' is routed to the code_generation_llm.\n"
     ]
    }
   ],
   "source": [
    "# Determine the domain based on the distance\n",
    "if code_gen_distance < sum_distance:\n",
    "    print(f\"The prompt '{third_prompt}' is routed to the {code_gen_model}.\")\n",
    "else:\n",
    "    print(f\"The prompt '{third_prompt}' is routed to the {summarization_model}.\")"
   ]
  },
  {
   "cell_type": "code",
   "execution_count": null,
   "id": "c6a649e4-68f1-4bf6-a360-a24ea28b73f7",
   "metadata": {},
   "outputs": [],
   "source": [
    "# Step 4: Construct the router\n",
    "def route_prompt(prompt):\n",
    "    native_request = {\"inputText\": prompt}\n",
    "    request = json.dumps(native_request)\n",
    "    response = client.invoke_model(modelId=model_id, body=request)\n",
    "    model_response = json.loads(response[\"body\"].read())\n",
    "    prompt_embedding = model_response_code[\"embedding\"]\n",
    "    \n",
    "    code_gen_distance = np.linalg.norm(np.array(prompt_embedding) - code_gen_array)\n",
    "    summarization_distance = np.linalg.norm(np.array(prompt_embedding) - sum_array)\n",
    "    \n",
    "    if code_gen_distance < summarization_distance:\n",
    "        return code_gen_model, code_gen_model.generate(prompt)\n",
    "    else:\n",
    "        return summarization_model, summarization_model.generate(prompt)"
   ]
  },
  {
   "cell_type": "markdown",
   "id": "e7911331-a486-4974-b8a1-b906051f7c50",
   "metadata": {},
   "source": [
    "# other\n",
    "scaling the amount of prompts for the 2 domains, taking the average as the anchor point for routing. \n",
    "increase the number of domains\n",
    "testing accuracy over many prompts"
   ]
  },
  {
   "cell_type": "code",
   "execution_count": null,
   "id": "aaa86480-1265-4264-af0c-2767ebec9b64",
   "metadata": {},
   "outputs": [],
   "source": [
    "def plot_similarity_heatmap(embeddings_a, embeddings_b):\n",
    "    inner_product = np.inner(embeddings_a, embeddings_b)\n",
    "    sns.set(font_scale=1.1)\n",
    "    graph = sns.heatmap(\n",
    "        inner_product,\n",
    "        vmin=np.min(inner_product),\n",
    "        vmax=1,\n",
    "        cmap=\"OrRd\",\n",
    "    )"
   ]
  }
 ],
 "metadata": {
  "kernelspec": {
   "display_name": "Python 3 (ipykernel)",
   "language": "python",
   "name": "python3"
  },
  "language_info": {
   "codemirror_mode": {
    "name": "ipython",
    "version": 3
   },
   "file_extension": ".py",
   "mimetype": "text/x-python",
   "name": "python",
   "nbconvert_exporter": "python",
   "pygments_lexer": "ipython3",
   "version": "3.11.9"
  }
 },
 "nbformat": 4,
 "nbformat_minor": 5
}
