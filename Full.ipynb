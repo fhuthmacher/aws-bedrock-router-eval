{
 "cells": [
  {
   "cell_type": "code",
   "execution_count": 2,
   "id": "fa334621",
   "metadata": {},
   "outputs": [],
   "source": [
    "# !conda create -y --name bedrock-router-eval python=3.11.8\n",
    "# !conda init && activate bedrock-router-eval\n",
    "# !conda install -n bedrock-router-eval ipykernel --update-deps --force-reinstall -y"
   ]
  },
  {
   "cell_type": "code",
   "execution_count": 11,
   "id": "185f851f",
   "metadata": {},
   "outputs": [
    {
     "name": "stdout",
     "output_type": "stream",
     "text": [
      "Requirement already satisfied: boto3 in /home/sagemaker-user/.conda/envs/bedrock-router-eval/lib/python3.11/site-packages (from -r requirements.txt (line 1)) (1.34.162)\n",
      "Requirement already satisfied: scipy in /home/sagemaker-user/.conda/envs/bedrock-router-eval/lib/python3.11/site-packages (from -r requirements.txt (line 2)) (1.14.0)\n",
      "Requirement already satisfied: numpy in /home/sagemaker-user/.conda/envs/bedrock-router-eval/lib/python3.11/site-packages (from -r requirements.txt (line 3)) (2.0.1)\n",
      "Collecting matplotlib (from -r requirements.txt (line 4))\n",
      "  Downloading matplotlib-3.9.2-cp311-cp311-manylinux_2_17_x86_64.manylinux2014_x86_64.whl.metadata (11 kB)\n",
      "Requirement already satisfied: pandas in /home/sagemaker-user/.conda/envs/bedrock-router-eval/lib/python3.11/site-packages (from -r requirements.txt (line 5)) (2.2.2)\n",
      "Requirement already satisfied: python-dotenv in /home/sagemaker-user/.conda/envs/bedrock-router-eval/lib/python3.11/site-packages (from -r requirements.txt (line 6)) (1.0.1)\n",
      "Requirement already satisfied: importlib_resources==6.4.0 in /home/sagemaker-user/.conda/envs/bedrock-router-eval/lib/python3.11/site-packages (from -r requirements.txt (line 7)) (6.4.0)\n",
      "Requirement already satisfied: datasets==2.20.0 in /home/sagemaker-user/.conda/envs/bedrock-router-eval/lib/python3.11/site-packages (from -r requirements.txt (line 8)) (2.20.0)\n",
      "Requirement already satisfied: filelock in /home/sagemaker-user/.conda/envs/bedrock-router-eval/lib/python3.11/site-packages (from datasets==2.20.0->-r requirements.txt (line 8)) (3.15.4)\n",
      "Requirement already satisfied: pyarrow>=15.0.0 in /home/sagemaker-user/.conda/envs/bedrock-router-eval/lib/python3.11/site-packages (from datasets==2.20.0->-r requirements.txt (line 8)) (17.0.0)\n",
      "Requirement already satisfied: pyarrow-hotfix in /home/sagemaker-user/.conda/envs/bedrock-router-eval/lib/python3.11/site-packages (from datasets==2.20.0->-r requirements.txt (line 8)) (0.6)\n",
      "Requirement already satisfied: dill<0.3.9,>=0.3.0 in /home/sagemaker-user/.conda/envs/bedrock-router-eval/lib/python3.11/site-packages (from datasets==2.20.0->-r requirements.txt (line 8)) (0.3.8)\n",
      "Requirement already satisfied: requests>=2.32.2 in /home/sagemaker-user/.conda/envs/bedrock-router-eval/lib/python3.11/site-packages (from datasets==2.20.0->-r requirements.txt (line 8)) (2.32.3)\n",
      "Requirement already satisfied: tqdm>=4.66.3 in /home/sagemaker-user/.conda/envs/bedrock-router-eval/lib/python3.11/site-packages (from datasets==2.20.0->-r requirements.txt (line 8)) (4.66.5)\n",
      "Requirement already satisfied: xxhash in /home/sagemaker-user/.conda/envs/bedrock-router-eval/lib/python3.11/site-packages (from datasets==2.20.0->-r requirements.txt (line 8)) (3.4.1)\n",
      "Requirement already satisfied: multiprocess in /home/sagemaker-user/.conda/envs/bedrock-router-eval/lib/python3.11/site-packages (from datasets==2.20.0->-r requirements.txt (line 8)) (0.70.16)\n",
      "Requirement already satisfied: fsspec<=2024.5.0,>=2023.1.0 in /home/sagemaker-user/.conda/envs/bedrock-router-eval/lib/python3.11/site-packages (from fsspec[http]<=2024.5.0,>=2023.1.0->datasets==2.20.0->-r requirements.txt (line 8)) (2024.5.0)\n",
      "Requirement already satisfied: aiohttp in /home/sagemaker-user/.conda/envs/bedrock-router-eval/lib/python3.11/site-packages (from datasets==2.20.0->-r requirements.txt (line 8)) (3.10.3)\n",
      "Requirement already satisfied: huggingface-hub>=0.21.2 in /home/sagemaker-user/.conda/envs/bedrock-router-eval/lib/python3.11/site-packages (from datasets==2.20.0->-r requirements.txt (line 8)) (0.24.5)\n",
      "Requirement already satisfied: packaging in /home/sagemaker-user/.conda/envs/bedrock-router-eval/lib/python3.11/site-packages (from datasets==2.20.0->-r requirements.txt (line 8)) (24.1)\n",
      "Requirement already satisfied: pyyaml>=5.1 in /home/sagemaker-user/.conda/envs/bedrock-router-eval/lib/python3.11/site-packages (from datasets==2.20.0->-r requirements.txt (line 8)) (6.0.2)\n",
      "Requirement already satisfied: botocore<1.35.0,>=1.34.162 in /home/sagemaker-user/.conda/envs/bedrock-router-eval/lib/python3.11/site-packages (from boto3->-r requirements.txt (line 1)) (1.34.162)\n",
      "Requirement already satisfied: jmespath<2.0.0,>=0.7.1 in /home/sagemaker-user/.conda/envs/bedrock-router-eval/lib/python3.11/site-packages (from boto3->-r requirements.txt (line 1)) (1.0.1)\n",
      "Requirement already satisfied: s3transfer<0.11.0,>=0.10.0 in /home/sagemaker-user/.conda/envs/bedrock-router-eval/lib/python3.11/site-packages (from boto3->-r requirements.txt (line 1)) (0.10.2)\n",
      "Collecting contourpy>=1.0.1 (from matplotlib->-r requirements.txt (line 4))\n",
      "  Downloading contourpy-1.2.1-cp311-cp311-manylinux_2_17_x86_64.manylinux2014_x86_64.whl.metadata (5.8 kB)\n",
      "Collecting cycler>=0.10 (from matplotlib->-r requirements.txt (line 4))\n",
      "  Using cached cycler-0.12.1-py3-none-any.whl.metadata (3.8 kB)\n",
      "Collecting fonttools>=4.22.0 (from matplotlib->-r requirements.txt (line 4))\n",
      "  Downloading fonttools-4.53.1-cp311-cp311-manylinux_2_17_x86_64.manylinux2014_x86_64.whl.metadata (162 kB)\n",
      "Collecting kiwisolver>=1.3.1 (from matplotlib->-r requirements.txt (line 4))\n",
      "  Using cached kiwisolver-1.4.5-cp311-cp311-manylinux_2_17_x86_64.manylinux2014_x86_64.whl.metadata (6.4 kB)\n",
      "Collecting pillow>=8 (from matplotlib->-r requirements.txt (line 4))\n",
      "  Using cached pillow-10.4.0-cp311-cp311-manylinux_2_28_x86_64.whl.metadata (9.2 kB)\n",
      "Collecting pyparsing>=2.3.1 (from matplotlib->-r requirements.txt (line 4))\n",
      "  Using cached pyparsing-3.1.2-py3-none-any.whl.metadata (5.1 kB)\n",
      "Requirement already satisfied: python-dateutil>=2.7 in /home/sagemaker-user/.conda/envs/bedrock-router-eval/lib/python3.11/site-packages (from matplotlib->-r requirements.txt (line 4)) (2.9.0.post0)\n",
      "Requirement already satisfied: pytz>=2020.1 in /home/sagemaker-user/.conda/envs/bedrock-router-eval/lib/python3.11/site-packages (from pandas->-r requirements.txt (line 5)) (2024.1)\n",
      "Requirement already satisfied: tzdata>=2022.7 in /home/sagemaker-user/.conda/envs/bedrock-router-eval/lib/python3.11/site-packages (from pandas->-r requirements.txt (line 5)) (2024.1)\n",
      "Requirement already satisfied: urllib3!=2.2.0,<3,>=1.25.4 in /home/sagemaker-user/.conda/envs/bedrock-router-eval/lib/python3.11/site-packages (from botocore<1.35.0,>=1.34.162->boto3->-r requirements.txt (line 1)) (2.2.2)\n",
      "Requirement already satisfied: aiohappyeyeballs>=2.3.0 in /home/sagemaker-user/.conda/envs/bedrock-router-eval/lib/python3.11/site-packages (from aiohttp->datasets==2.20.0->-r requirements.txt (line 8)) (2.3.6)\n",
      "Requirement already satisfied: aiosignal>=1.1.2 in /home/sagemaker-user/.conda/envs/bedrock-router-eval/lib/python3.11/site-packages (from aiohttp->datasets==2.20.0->-r requirements.txt (line 8)) (1.3.1)\n",
      "Requirement already satisfied: attrs>=17.3.0 in /home/sagemaker-user/.conda/envs/bedrock-router-eval/lib/python3.11/site-packages (from aiohttp->datasets==2.20.0->-r requirements.txt (line 8)) (24.2.0)\n",
      "Requirement already satisfied: frozenlist>=1.1.1 in /home/sagemaker-user/.conda/envs/bedrock-router-eval/lib/python3.11/site-packages (from aiohttp->datasets==2.20.0->-r requirements.txt (line 8)) (1.4.1)\n",
      "Requirement already satisfied: multidict<7.0,>=4.5 in /home/sagemaker-user/.conda/envs/bedrock-router-eval/lib/python3.11/site-packages (from aiohttp->datasets==2.20.0->-r requirements.txt (line 8)) (6.0.5)\n",
      "Requirement already satisfied: yarl<2.0,>=1.0 in /home/sagemaker-user/.conda/envs/bedrock-router-eval/lib/python3.11/site-packages (from aiohttp->datasets==2.20.0->-r requirements.txt (line 8)) (1.9.4)\n",
      "Requirement already satisfied: typing-extensions>=3.7.4.3 in /home/sagemaker-user/.conda/envs/bedrock-router-eval/lib/python3.11/site-packages (from huggingface-hub>=0.21.2->datasets==2.20.0->-r requirements.txt (line 8)) (4.11.0)\n",
      "Requirement already satisfied: six>=1.5 in /home/sagemaker-user/.conda/envs/bedrock-router-eval/lib/python3.11/site-packages (from python-dateutil>=2.7->matplotlib->-r requirements.txt (line 4)) (1.16.0)\n",
      "Requirement already satisfied: charset-normalizer<4,>=2 in /home/sagemaker-user/.conda/envs/bedrock-router-eval/lib/python3.11/site-packages (from requests>=2.32.2->datasets==2.20.0->-r requirements.txt (line 8)) (3.3.2)\n",
      "Requirement already satisfied: idna<4,>=2.5 in /home/sagemaker-user/.conda/envs/bedrock-router-eval/lib/python3.11/site-packages (from requests>=2.32.2->datasets==2.20.0->-r requirements.txt (line 8)) (3.7)\n",
      "Requirement already satisfied: certifi>=2017.4.17 in /home/sagemaker-user/.conda/envs/bedrock-router-eval/lib/python3.11/site-packages (from requests>=2.32.2->datasets==2.20.0->-r requirements.txt (line 8)) (2024.7.4)\n",
      "Downloading matplotlib-3.9.2-cp311-cp311-manylinux_2_17_x86_64.manylinux2014_x86_64.whl (8.3 MB)\n",
      "\u001b[2K   \u001b[90m━━━━━━━━━━━━━━━━━━━━━━━━━━━━━━━━━━━━━━━━\u001b[0m \u001b[32m8.3/8.3 MB\u001b[0m \u001b[31m72.4 MB/s\u001b[0m eta \u001b[36m0:00:00\u001b[0m\n",
      "\u001b[?25hDownloading contourpy-1.2.1-cp311-cp311-manylinux_2_17_x86_64.manylinux2014_x86_64.whl (306 kB)\n",
      "Using cached cycler-0.12.1-py3-none-any.whl (8.3 kB)\n",
      "Downloading fonttools-4.53.1-cp311-cp311-manylinux_2_17_x86_64.manylinux2014_x86_64.whl (4.9 MB)\n",
      "\u001b[2K   \u001b[90m━━━━━━━━━━━━━━━━━━━━━━━━━━━━━━━━━━━━━━━━\u001b[0m \u001b[32m4.9/4.9 MB\u001b[0m \u001b[31m118.6 MB/s\u001b[0m eta \u001b[36m0:00:00\u001b[0m\n",
      "\u001b[?25hUsing cached kiwisolver-1.4.5-cp311-cp311-manylinux_2_17_x86_64.manylinux2014_x86_64.whl (1.4 MB)\n",
      "Using cached pillow-10.4.0-cp311-cp311-manylinux_2_28_x86_64.whl (4.5 MB)\n",
      "Using cached pyparsing-3.1.2-py3-none-any.whl (103 kB)\n",
      "Installing collected packages: pyparsing, pillow, kiwisolver, fonttools, cycler, contourpy, matplotlib\n",
      "Successfully installed contourpy-1.2.1 cycler-0.12.1 fonttools-4.53.1 kiwisolver-1.4.5 matplotlib-3.9.2 pillow-10.4.0 pyparsing-3.1.2\n"
     ]
    }
   ],
   "source": [
    "!pip install -r requirements.txt"
   ]
  },
  {
   "cell_type": "code",
   "execution_count": 8,
   "id": "c1e9cad8-72a8-486c-8d50-a124880e918f",
   "metadata": {},
   "outputs": [],
   "source": [
    "# Import necessary libraries\n",
    "import boto3\n",
    "import json\n",
    "from dotenv import load_dotenv, find_dotenv\n",
    "import os\n",
    "\n",
    "\n",
    "# loading environment variables that are stored in local file dev.env\n",
    "local_env_filename = 'bedrock-router-eval.env'\n",
    "load_dotenv(find_dotenv(local_env_filename),override=True)\n",
    "\n",
    "os.environ['REGION'] = os.getenv('REGION')\n",
    "REGION = os.environ['REGION']"
   ]
  },
  {
   "cell_type": "code",
   "execution_count": 5,
   "id": "da295f4e-d94b-4e65-af3b-e864317f5a9e",
   "metadata": {},
   "outputs": [],
   "source": [
    "# Step 1: Define categories and difficulties\n",
    "topics = ['code', 'summarization', 'general']\n",
    "difficulty_levels = ['easy', 'medium', 'hard']\n",
    "synthetic_data_model = \"anthropic.claude-3-haiku-20240307-v1:0\""
   ]
  },
  {
   "cell_type": "code",
   "execution_count": 9,
   "id": "a3f27cac-f5a4-4a39-b29d-c2e0ada7fb07",
   "metadata": {},
   "outputs": [],
   "source": [
    "brt = boto3.client(service_name='bedrock-runtime', region_name=REGION)\n",
    "data_gen_prompt = f\"generate a json file with example prompts across the following topics {topics} and following category level {difficulty_levels}. Your answer will only contain the json formatted answer.\"\n",
    "from botocore.exceptions import ClientError\n",
    "\n",
    "def syntheticdatagen(topics,difficulty_levels):\n",
    "    native_request = {\n",
    "        \"anthropic_version\": \"bedrock-2023-05-31\",\n",
    "        \"max_tokens\": 512,\n",
    "        \"temperature\": 0.5,\n",
    "        \"messages\": [\n",
    "            {\n",
    "                \"role\": \"user\",\n",
    "                \"content\": [{\"type\": \"text\", \"text\": data_gen_prompt}],\n",
    "            }\n",
    "        ],\n",
    "    }\n",
    "    # Convert the native request to JSON.\n",
    "    request = json.dumps(native_request)\n",
    "    \n",
    "    try:\n",
    "        # Invoke the model with the request.\n",
    "        response = brt.invoke_model(modelId=synthetic_data_model, body=request)\n",
    "    \n",
    "    except (ClientError, Exception) as e:\n",
    "        print(f\"ERROR: Can't invoke '{synthetic_data_model}'. Reason: {e}\")\n",
    "        exit(1)\n",
    "    \n",
    "    # Decode the response body.\n",
    "    model_response = json.loads(response[\"body\"].read())\n",
    "    \n",
    "    # Extract and print the response text.\n",
    "    response_text = model_response[\"content\"][0][\"text\"]\n",
    "    print(data_gen_prompt)\n",
    "    return response_text"
   ]
  },
  {
   "cell_type": "code",
   "execution_count": 10,
   "id": "b7751689-6bc6-4af5-bbfd-79e990f12532",
   "metadata": {},
   "outputs": [
    {
     "name": "stdout",
     "output_type": "stream",
     "text": [
      "generate a json file with example prompts across the following topics ['code', 'summarization', 'general'] and following category level ['easy', 'medium', 'hard']. Your answer will only contain the json formatted answer.\n"
     ]
    },
    {
     "data": {
      "text/plain": [
       "'{\\n  \"code\": {\\n    \"easy\": [\\n      \"Write a simple function in Python that takes two numbers as input and returns their sum.\",\\n      \"Create a JavaScript program that logs \\'Hello, World!\\' to the console.\",\\n      \"Implement a basic sorting algorithm, such as bubble sort, in Java.\"\\n    ],\\n    \"medium\": [\\n      \"Develop a Python script that reads a CSV file, performs data cleaning, and outputs a cleaned dataset.\",\\n      \"Write a JavaScript function that takes an array of numbers and returns the average of the array.\",\\n      \"Create a Java program that implements a simple calculator with addition, subtraction, multiplication, and division operations.\"\\n    ],\\n    \"hard\": [\\n      \"Design and implement a RESTful API in Python using a web framework like Flask or Django.\",\\n      \"Develop a JavaScript application that fetches data from an API and displays it on a web page using React or Angular.\",\\n      \"Create a Java program that simulates a simple game of chess, including the movement of pieces and basic game logic.\"\\n    ]\\n  },\\n  \"summarization\": {\\n    \"easy\": [\\n      \"Summarize the main points of a short news article in a few sentences.\",\\n      \"Condense a paragraph of text into a concise summary.\",\\n      \"Provide a brief summary of the key takeaways from a research paper abstract.\"\\n    ],\\n    \"medium\": [\\n      \"Summarize the plot of a short story or book chapter in a well-structured paragraph.\",\\n      \"Condense a lengthy technical report into a concise executive summary.\",\\n      \"Provide a comprehensive summary of the key findings and implications of a scientific study.\"\\n    ],\\n    \"hard\": [\\n      \"Summarize the key arguments and conclusions of a complex academic paper or research article.\",\\n      \"Condense a lengthy and detailed business report into a concise and informative summary.\",\\n      \"Provide a comprehensive and insightful summary of a multi-chapter book or a series of related research papers.\"\\n    ]\\n  },\\n  \"general\": {\\n    \"easy\": [\\n      \"Describe your favorite hobby in a few sentences.\",\\n      \"Explain the steps involved in making a simple recipe.\",\\n      \"Summarize the plot of a popular movie or TV show.\"\\n    '"
      ]
     },
     "execution_count": 10,
     "metadata": {},
     "output_type": "execute_result"
    }
   ],
   "source": [
    "syntheticdatagen(topics,difficulty_levels)"
   ]
  },
  {
   "cell_type": "code",
   "execution_count": null,
   "id": "5cf585f1-14fe-4903-b346-196dca10a7e7",
   "metadata": {},
   "outputs": [],
   "source": []
  }
 ],
 "metadata": {
  "kernelspec": {
   "display_name": "Python 3 (ipykernel)",
   "language": "python",
   "name": "python3"
  },
  "language_info": {
   "codemirror_mode": {
    "name": "ipython",
    "version": 3
   },
   "file_extension": ".py",
   "mimetype": "text/x-python",
   "name": "python",
   "nbconvert_exporter": "python",
   "pygments_lexer": "ipython3",
   "version": "3.11.9"
  }
 },
 "nbformat": 4,
 "nbformat_minor": 5
}
